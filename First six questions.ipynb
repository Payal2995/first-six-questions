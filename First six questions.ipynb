{
 "cells": [
  {
   "cell_type": "code",
   "execution_count": 1,
   "id": "ef43a854-b7b7-4a99-9755-9231b67337a4",
   "metadata": {},
   "outputs": [],
   "source": [
    "import pandas as pd"
   ]
  },
  {
   "cell_type": "code",
   "execution_count": 8,
   "id": "608e6324-7b9b-416a-a8a7-c4ae9865aece",
   "metadata": {
    "scrolled": true
   },
   "outputs": [
    {
     "name": "stdout",
     "output_type": "stream",
     "text": [
      "         Date Country         Region  Crop_Type  Average_Temperature_C  \\\n",
      "0  15-01-2001   India    West Bengal       Corn                   1.55   \n",
      "1  15-01-2024   China          North       Corn                   3.23   \n",
      "2  15-01-2001  France  Ile-de-France      Wheat                  21.11   \n",
      "3  15-01-2001  Canada       Prairies     Coffee                  27.85   \n",
      "4  15-01-1998   India     Tamil Nadu  Sugarcane                   2.19   \n",
      "\n",
      "   Total_Precipitation_mm  CO2_Emissions_MT  Crop_Yield_MT_per_HA  \\\n",
      "0                  447.06             15.22                 1.737   \n",
      "1                 2913.57             29.82                 1.737   \n",
      "2                 1301.74             25.75                 1.719   \n",
      "3                 1154.36             13.91                 3.890   \n",
      "4                 1627.48             11.81                 1.080   \n",
      "\n",
      "   Extreme_Weather_Events  Irrigation_Access_%  Pesticide_Use_KG_per_HA  \\\n",
      "0                       8                14.54                    10.08   \n",
      "1                       8                11.05                    33.06   \n",
      "2                       5                84.42                    27.41   \n",
      "3                       5                94.06                    14.38   \n",
      "4                       9                95.75                    44.35   \n",
      "\n",
      "   Fertilizer_Use_KG_per_HA  Soil_Health_Index Adaptation_Strategies  \\\n",
      "0                     14.78              83.25      Water Management   \n",
      "1                     23.25              54.02         Crop Rotation   \n",
      "2                     65.53              67.78      Water Management   \n",
      "3                     87.58              91.39         No Adaptation   \n",
      "4                     88.08              49.61         Crop Rotation   \n",
      "\n",
      "   Economic_Impact_Million_USD  \n",
      "0                       808.13  \n",
      "1                       616.22  \n",
      "2                       796.96  \n",
      "3                       790.32  \n",
      "4                       401.72  \n"
     ]
    }
   ],
   "source": [
    "file_path = r\"C:\\\\Users\\\\91987\\\\OneDrive\\\\Desktop\\\\climate_distortion_with_region.csv\"\n",
    "df = pd.read_csv(file_path, encoding='ISO-8859-1')\n",
    "print(df.head())"
   ]
  },
  {
   "cell_type": "code",
   "execution_count": 9,
   "id": "a12a30cf-de47-40d0-a02c-c3c8cc46b7ba",
   "metadata": {},
   "outputs": [],
   "source": [
    "null_counts = df.isnull().sum()\n",
    "columns_with_nulls = null_counts[null_counts > 0]\n",
    "num_columns_with_nulls = len(columns_with_nulls)"
   ]
  },
  {
   "cell_type": "code",
   "execution_count": 10,
   "id": "6671395e-a348-4d4b-ae8a-a66996c1e893",
   "metadata": {},
   "outputs": [
    {
     "name": "stdout",
     "output_type": "stream",
     "text": [
      "Number of columns with NULL values: 2\n",
      "Columns with NULL values:\n",
      "Soil_Health_Index         9\n",
      "Adaptation_Strategies    12\n",
      "dtype: int64\n"
     ]
    }
   ],
   "source": [
    "print(f\"Number of columns with NULL values: {num_columns_with_nulls}\")\n",
    "print(\"Columns with NULL values:\")\n",
    "print(columns_with_nulls)"
   ]
  },
  {
   "cell_type": "code",
   "execution_count": 14,
   "id": "0f836add-39a5-4b03-88c8-a6c6b9cccfde",
   "metadata": {},
   "outputs": [],
   "source": [
    "for column in columns_with_nulls.index:\n",
    "    if df[column].dtype == 'object':  #Categorical column\n",
    "        mode_value = df[column].mode()[0]\n",
    "        df[column] = df[column].fillna(mode_value)  #Assign back to the column\n",
    "    else:  # Numerical column\n",
    "        mean_value = df[column].mean()\n",
    "        df[column] = df[column].fillna(mean_value)  #Assign back to the column"
   ]
  },
  {
   "cell_type": "code",
   "execution_count": 13,
   "id": "d18a58df-fd6d-44a7-b597-fd06fd58b75b",
   "metadata": {},
   "outputs": [
    {
     "name": "stdout",
     "output_type": "stream",
     "text": [
      "NULL values after imputation:\n",
      "Date                           0\n",
      "Country                        0\n",
      "Region                         0\n",
      "Crop_Type                      0\n",
      "Average_Temperature_C          0\n",
      "Total_Precipitation_mm         0\n",
      "CO2_Emissions_MT               0\n",
      "Crop_Yield_MT_per_HA           0\n",
      "Extreme_Weather_Events         0\n",
      "Irrigation_Access_%            0\n",
      "Pesticide_Use_KG_per_HA        0\n",
      "Fertilizer_Use_KG_per_HA       0\n",
      "Soil_Health_Index              0\n",
      "Adaptation_Strategies          0\n",
      "Economic_Impact_Million_USD    0\n",
      "dtype: int64\n"
     ]
    }
   ],
   "source": [
    "null_counts_after = df.isnull().sum()\n",
    "print(\"NULL values after imputation:\")\n",
    "print(null_counts_after)"
   ]
  },
  {
   "cell_type": "code",
   "execution_count": 16,
   "id": "c1350cd7-d386-4d92-98ae-9f4a532c3787",
   "metadata": {},
   "outputs": [],
   "source": [
    "canada_data = df[df['Country'] == 'Canada']"
   ]
  },
  {
   "cell_type": "code",
   "execution_count": 17,
   "id": "53dac2b7-78af-4ecc-aca3-d01e8bbb7427",
   "metadata": {},
   "outputs": [],
   "source": [
    "unique_regions = canada_data['Region'].unique()"
   ]
  },
  {
   "cell_type": "code",
   "execution_count": 18,
   "id": "46c28dee-83ff-4bdc-a5cd-53eb5e1eb31b",
   "metadata": {},
   "outputs": [],
   "source": [
    "num_unique_regions = len(unique_regions)"
   ]
  },
  {
   "cell_type": "code",
   "execution_count": 19,
   "id": "8763d9d1-be7e-4560-b853-f3a3436ada19",
   "metadata": {},
   "outputs": [
    {
     "name": "stdout",
     "output_type": "stream",
     "text": [
      "Unique regions recorded for Canada: 4\n",
      "Regions: ['Prairies' 'Quebec' 'Ontario' 'British Columbia']\n"
     ]
    }
   ],
   "source": [
    "print(f\"Unique regions recorded for Canada: {num_unique_regions}\")\n",
    "print(\"Regions:\", unique_regions)"
   ]
  },
  {
   "cell_type": "code",
   "execution_count": 22,
   "id": "20b63fba-deee-4ed9-a61b-26ce932f8303",
   "metadata": {},
   "outputs": [],
   "source": [
    "df['Date'] = pd.to_datetime(df['Date'], format='%d-%m-%Y')"
   ]
  },
  {
   "cell_type": "code",
   "execution_count": 23,
   "id": "34491c82-0425-4da7-8e87-9fcedc43f9b8",
   "metadata": {},
   "outputs": [],
   "source": [
    "data_2023 = df[df['Date'].dt.year == 2023]"
   ]
  },
  {
   "cell_type": "code",
   "execution_count": 25,
   "id": "a685f85e-7be3-43af-bfd5-170dc22811a7",
   "metadata": {},
   "outputs": [],
   "source": [
    "max_emissions_row = data_2023.loc[data_2023['CO2_Emissions_MT'].idxmax()]\n",
    "max_country = max_emissions_row['Country']\n",
    "max_emissions = max_emissions_row['CO2_Emissions_MT']"
   ]
  },
  {
   "cell_type": "code",
   "execution_count": 26,
   "id": "7baab843-f776-4c44-8731-db82d3fcc681",
   "metadata": {},
   "outputs": [],
   "source": [
    "min_emissions_row = data_2023.loc[data_2023['CO2_Emissions_MT'].idxmin()]\n",
    "min_country = min_emissions_row['Country']\n",
    "min_emissions = min_emissions_row['CO2_Emissions_MT']"
   ]
  },
  {
   "cell_type": "code",
   "execution_count": 27,
   "id": "cdae59c3-4a7f-4997-8cb4-4d9ec63268db",
   "metadata": {},
   "outputs": [
    {
     "name": "stdout",
     "output_type": "stream",
     "text": [
      "Country with the most CO2 emissions in 2023: China with 29.98 MT\n",
      "Country with the least CO2 emissions in 2023: USA with 0.71 MT\n"
     ]
    }
   ],
   "source": [
    "print(f\"Country with the most CO2 emissions in 2023: {max_country} with {max_emissions} MT\")\n",
    "print(f\"Country with the least CO2 emissions in 2023: {min_country} with {min_emissions} MT\")"
   ]
  },
  {
   "cell_type": "code",
   "execution_count": 28,
   "id": "01c15a3d-ad0a-4805-a8ec-976e4ad2f87b",
   "metadata": {},
   "outputs": [],
   "source": [
    "usa_data = df[df['Country'] == 'USA']"
   ]
  },
  {
   "cell_type": "code",
   "execution_count": 29,
   "id": "8fab8a1b-f5ef-42cc-8df6-963593beabd2",
   "metadata": {},
   "outputs": [],
   "source": [
    "average_temperatures = usa_data.groupby('Region')['Average_Temperature_C'].mean()"
   ]
  },
  {
   "cell_type": "code",
   "execution_count": 30,
   "id": "716fba67-5187-471f-8c10-fdfb7f40923b",
   "metadata": {},
   "outputs": [],
   "source": [
    "coolest_region = average_temperatures.idxmin()  # Region with the minimum average temperature\n",
    "coolest_temperature = average_temperatures.min()  # Coolest average temperature"
   ]
  },
  {
   "cell_type": "code",
   "execution_count": 31,
   "id": "8f6135cb-f929-4a67-aaf0-d990d3cfda88",
   "metadata": {},
   "outputs": [
    {
     "name": "stdout",
     "output_type": "stream",
     "text": [
      "The coolest region in the USA is 'West' with an average temperature of 15.24°C.\n"
     ]
    }
   ],
   "source": [
    "print(f\"The coolest region in the USA is '{coolest_region}' with an average temperature of {coolest_temperature:.2f}°C.\")"
   ]
  },
  {
   "cell_type": "code",
   "execution_count": 32,
   "id": "c87429e4-b666-4c44-bc1e-bcce6b0bc740",
   "metadata": {},
   "outputs": [],
   "source": [
    "midwest_data = df[(df['Region'] == 'Midwest') & (df['Country'] == 'USA')]"
   ]
  },
  {
   "cell_type": "code",
   "execution_count": 33,
   "id": "32b320d9-55eb-4841-af17-eac502a47932",
   "metadata": {},
   "outputs": [],
   "source": [
    "economic_impact_by_crop = midwest_data.groupby('Crop_Type')['Economic_Impact_Million_USD'].sum()"
   ]
  },
  {
   "cell_type": "code",
   "execution_count": 34,
   "id": "d01effbe-c77b-478b-956c-fd9f91ed1efb",
   "metadata": {},
   "outputs": [],
   "source": [
    "highest_impact_crop = economic_impact_by_crop.idxmax()  # Crop type with the maximum economic impact\n",
    "highest_impact_value = economic_impact_by_crop.max()  # Maximum economic impact value"
   ]
  },
  {
   "cell_type": "code",
   "execution_count": 35,
   "id": "9518deda-c320-4f7f-a7c5-32126342a49c",
   "metadata": {},
   "outputs": [
    {
     "name": "stdout",
     "output_type": "stream",
     "text": [
      "The crop type from the Midwest region in the USA with the highest historical economic impact is 'Coffee' with an economic impact of $21970.56 million USD.\n"
     ]
    }
   ],
   "source": [
    "print(f\"The crop type from the Midwest region in the USA with the highest historical economic impact is '{highest_impact_crop}' with an economic impact of ${highest_impact_value:.2f} million USD.\")"
   ]
  },
  {
   "cell_type": "code",
   "execution_count": null,
   "id": "a593c260-0dc1-440a-b44c-9b6ba023e47b",
   "metadata": {},
   "outputs": [],
   "source": []
  }
 ],
 "metadata": {
  "kernelspec": {
   "display_name": "Python 3 (ipykernel)",
   "language": "python",
   "name": "python3"
  },
  "language_info": {
   "codemirror_mode": {
    "name": "ipython",
    "version": 3
   },
   "file_extension": ".py",
   "mimetype": "text/x-python",
   "name": "python",
   "nbconvert_exporter": "python",
   "pygments_lexer": "ipython3",
   "version": "3.12.6"
  }
 },
 "nbformat": 4,
 "nbformat_minor": 5
}
